{
 "cells": [
  {
   "cell_type": "code",
   "execution_count": null,
   "metadata": {},
   "outputs": [],
   "source": [
    "nb_de_chance = 3\n",
    "\n",
    "\n",
    "print(\"voici notre quizz!\")\n",
    "print('-----')\n",
    "print()\n",
    "\n",
    "\n",
    "print(\"question1:\")\n",
    "question1 = input(\"combien de fois l'équipe de France de Football a-t-elle gagné la coupe du monde?\")\n",
    "print('votre réponse : {}'.format(question1))\n",
    "\n",
    "while question1 != \"2\":\n",
    "   nb_de_chance = -1\n",
    "   print('Mauvaise réponse!. il vous reste {}'.format(nb_de_chance))\n",
    "   if nb_de_chance = 0\n",
    "      print(\"vous avez perdu...\")\n",
    "      break\n",
    "\n",
    "    question1 = input(\"combien de fois l'équipe de France de Football a-t-elle gagné la coupe du monde?\")\n",
    "    print('votre réponse : {}'.format(question1))\n",
    "   \n",
    "\n",
    "if nb_de_chance > 0:\n",
    "   \n",
    "print(\"question2:\")\n",
    "question2 =input(\"Quand Apple a-t-elle été fondé?\")\n",
    "print(\"votre réponse : {}\".format(question2))\n",
    "\n",
    "\n",
    "\n",
    "if question2 != \"1976\":\n",
    "   print(\"Mauvaise réponse!\")\n",
    "else:\n",
    "   print(\"bien joué!!\")\n"
   ]
  }
 ],
 "metadata": {
  "language_info": {
   "name": "python"
  }
 },
 "nbformat": 4,
 "nbformat_minor": 2
}
